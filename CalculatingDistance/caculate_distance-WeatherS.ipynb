{
 "cells": [
  {
   "cell_type": "markdown",
   "id": "c10fca6f-3130-4acc-b305-04c6d1f480b8",
   "metadata": {},
   "source": [
    "### To do: finalize what list of weather stations to grab from, only use that to input, double check with Byran for Bike list"
   ]
  },
  {
   "cell_type": "code",
   "execution_count": 1,
   "id": "93015d54-1e8b-4138-ac2a-7ec8cb8283c4",
   "metadata": {},
   "outputs": [],
   "source": [
    "from math import sqrt\n",
    "from math import cos\n",
    "from math import sin\n",
    "import math"
   ]
  },
  {
   "cell_type": "code",
   "execution_count": 2,
   "id": "4d26f279-ca58-4f9a-8914-c02a33bec324",
   "metadata": {},
   "outputs": [],
   "source": [
    "def rad(d):\n",
    "    return d * math.pi / 180.0"
   ]
  },
  {
   "cell_type": "code",
   "execution_count": 3,
   "id": "3ee41771-4e7f-4ec2-8fac-c53138ff52e0",
   "metadata": {},
   "outputs": [],
   "source": [
    "def getDistance(lat1, lng1, lat2, lng2):\n",
    "    EARTH_REDIUS = 6378.137\n",
    "    radLat1 = rad(lat1)\n",
    "    radLat2 = rad(lat2)\n",
    "    a = radLat1 - radLat2\n",
    "    b = rad(lng1) - rad(lng2)\n",
    "    s = 2 * math.asin(math.sqrt(math.pow(sin(a/2), 2) + cos(radLat1) * cos(radLat2) * math.pow(sin(b/2), 2)))\n",
    "    s = s * EARTH_REDIUS\n",
    "    #print(\"distance=\",s)\n",
    "    return s*1000"
   ]
  },
  {
   "cell_type": "code",
   "execution_count": 4,
   "id": "01631c37-72fe-4cd9-9bd0-9af062f4f8d9",
   "metadata": {},
   "outputs": [],
   "source": [
    "import pandas as pd"
   ]
  },
  {
   "cell_type": "code",
   "execution_count": 5,
   "id": "cebc5342-f2d1-4e9d-b25c-544ebebf3c55",
   "metadata": {},
   "outputs": [],
   "source": [
    "bike = pd.read_excel('./Bike_List.xlsx',sheet_name='Sheet1')"
   ]
  },
  {
   "cell_type": "code",
   "execution_count": 6,
   "id": "d05d2bf5-4d94-4597-95e1-dfe697bcf2a9",
   "metadata": {},
   "outputs": [
    {
     "data": {
      "text/plain": [
       "(1496, 8)"
      ]
     },
     "execution_count": 6,
     "metadata": {},
     "output_type": "execute_result"
    }
   ],
   "source": [
    "bike.shape"
   ]
  },
  {
   "cell_type": "code",
   "execution_count": 7,
   "id": "f1336cb4-5c7b-48c0-8dbd-9bb491450bd9",
   "metadata": {},
   "outputs": [],
   "source": [
    "WeatherStations = pd.read_csv('./TpeWeatherStationScraping.csv')"
   ]
  },
  {
   "cell_type": "code",
   "execution_count": 8,
   "id": "5e9af90d-5ed4-4c44-9cda-b4c18de5f4ed",
   "metadata": {},
   "outputs": [
    {
     "data": {
      "text/plain": [
       "(20, 14)"
      ]
     },
     "execution_count": 8,
     "metadata": {},
     "output_type": "execute_result"
    }
   ],
   "source": [
    "WeatherStations.shape"
   ]
  },
  {
   "cell_type": "code",
   "execution_count": 9,
   "id": "0b0f4441-eb4b-4849-a3a8-735658991445",
   "metadata": {},
   "outputs": [],
   "source": [
    " if __name__ == '__main__':\n",
    "    lat1=25.040858\n",
    "    lng1=121.567904\n",
    "    lat2=25.182586\n",
    "    lng2=121.529731\n",
    "    getDistance(lat1, lng1, lat2, lng2)"
   ]
  },
  {
   "cell_type": "code",
   "execution_count": 10,
   "id": "6b787f9a-fafb-41f7-be90-7d1ea6ecdd36",
   "metadata": {},
   "outputs": [
    {
     "data": {
      "text/plain": [
       "16239.511401553369"
      ]
     },
     "execution_count": 10,
     "metadata": {},
     "output_type": "execute_result"
    }
   ],
   "source": [
    "getDistance(lat1, lng1, lat2, lng2)"
   ]
  },
  {
   "cell_type": "code",
   "execution_count": 11,
   "id": "549294e7-dda8-4300-8dbe-07d7f6d5f94e",
   "metadata": {},
   "outputs": [],
   "source": [
    "merge_df = pd.merge(bike, WeatherStations, how =\"cross\")"
   ]
  },
  {
   "cell_type": "code",
   "execution_count": 12,
   "id": "aa339228-ae1b-4368-8c5f-aa2ae4570e22",
   "metadata": {},
   "outputs": [
    {
     "data": {
      "text/plain": [
       "Index(['Unnamed: 0_x', 'Generation', 'sno', 'sna', 'sarea', 'bike_lat',\n",
       "       'bike_lng', 'ar', 'Unnamed: 0_y', 'Status', '站號', '站名', '海拔高度(m)', '經度',\n",
       "       '緯度', '城市', '地址', '資料起始日期', '撤站日期', '備註', '原站號', '新站號'],\n",
       "      dtype='object')"
      ]
     },
     "execution_count": 12,
     "metadata": {},
     "output_type": "execute_result"
    }
   ],
   "source": [
    "merge_df.columns"
   ]
  },
  {
   "cell_type": "code",
   "execution_count": 13,
   "id": "9b5f8d4e-5be0-47d6-b095-a1ab46d8b6fe",
   "metadata": {},
   "outputs": [],
   "source": [
    "merge_df['distanceBike_Weather']=''"
   ]
  },
  {
   "cell_type": "code",
   "execution_count": 15,
   "id": "9ce62f62-f0a4-4874-9599-36021dbabcdb",
   "metadata": {
    "tags": []
   },
   "outputs": [],
   "source": [
    "for i in range(len(merge_df.index)):\n",
    "    merge_df.iloc[i,22]=getDistance(merge_df.iloc[i,5], merge_df.iloc[i,6], merge_df.iloc[i,14], merge_df.iloc[i,13])"
   ]
  },
  {
   "cell_type": "code",
   "execution_count": 16,
   "id": "6a978b7a-6b10-43cc-a47f-e63ef2ada0d9",
   "metadata": {
    "tags": []
   },
   "outputs": [
    {
     "data": {
      "text/html": [
       "<div>\n",
       "<style scoped>\n",
       "    .dataframe tbody tr th:only-of-type {\n",
       "        vertical-align: middle;\n",
       "    }\n",
       "\n",
       "    .dataframe tbody tr th {\n",
       "        vertical-align: top;\n",
       "    }\n",
       "\n",
       "    .dataframe thead th {\n",
       "        text-align: right;\n",
       "    }\n",
       "</style>\n",
       "<table border=\"1\" class=\"dataframe\">\n",
       "  <thead>\n",
       "    <tr style=\"text-align: right;\">\n",
       "      <th></th>\n",
       "      <th>Unnamed: 0_x</th>\n",
       "      <th>Generation</th>\n",
       "      <th>sno</th>\n",
       "      <th>sna</th>\n",
       "      <th>sarea</th>\n",
       "      <th>bike_lat</th>\n",
       "      <th>bike_lng</th>\n",
       "      <th>ar</th>\n",
       "      <th>Unnamed: 0_y</th>\n",
       "      <th>Status</th>\n",
       "      <th>...</th>\n",
       "      <th>經度</th>\n",
       "      <th>緯度</th>\n",
       "      <th>城市</th>\n",
       "      <th>地址</th>\n",
       "      <th>資料起始日期</th>\n",
       "      <th>撤站日期</th>\n",
       "      <th>備註</th>\n",
       "      <th>原站號</th>\n",
       "      <th>新站號</th>\n",
       "      <th>distanceBike_Weather</th>\n",
       "    </tr>\n",
       "  </thead>\n",
       "  <tbody>\n",
       "    <tr>\n",
       "      <th>0</th>\n",
       "      <td>234</td>\n",
       "      <td>1</td>\n",
       "      <td>1</td>\n",
       "      <td>捷運市政府站(3號出口)</td>\n",
       "      <td>信義區</td>\n",
       "      <td>25.040858</td>\n",
       "      <td>121.567904</td>\n",
       "      <td>忠孝東路/松仁路(東南側)</td>\n",
       "      <td>3</td>\n",
       "      <td>1</td>\n",
       "      <td>...</td>\n",
       "      <td>121.529731</td>\n",
       "      <td>25.182586</td>\n",
       "      <td>臺北市</td>\n",
       "      <td>北投區陽明山竹子湖路111號</td>\n",
       "      <td>1943/1/1</td>\n",
       "      <td>NaN</td>\n",
       "      <td>NaN</td>\n",
       "      <td>NaN</td>\n",
       "      <td>NaN</td>\n",
       "      <td>16239.534021</td>\n",
       "    </tr>\n",
       "    <tr>\n",
       "      <th>1</th>\n",
       "      <td>234</td>\n",
       "      <td>1</td>\n",
       "      <td>1</td>\n",
       "      <td>捷運市政府站(3號出口)</td>\n",
       "      <td>信義區</td>\n",
       "      <td>25.040858</td>\n",
       "      <td>121.567904</td>\n",
       "      <td>忠孝東路/松仁路(東南側)</td>\n",
       "      <td>4</td>\n",
       "      <td>1</td>\n",
       "      <td>...</td>\n",
       "      <td>121.514853</td>\n",
       "      <td>25.037658</td>\n",
       "      <td>臺北市</td>\n",
       "      <td>中正區公園路64號</td>\n",
       "      <td>1896/08/11</td>\n",
       "      <td>NaN</td>\n",
       "      <td>1992/02至1997/08因本局改建，觀測地點移至臺北師院(466921)。2014至2...</td>\n",
       "      <td>NaN</td>\n",
       "      <td>NaN</td>\n",
       "      <td>5362.477961</td>\n",
       "    </tr>\n",
       "  </tbody>\n",
       "</table>\n",
       "<p>2 rows × 23 columns</p>\n",
       "</div>"
      ],
      "text/plain": [
       "   Unnamed: 0_x  Generation  sno           sna sarea   bike_lat    bike_lng  \\\n",
       "0           234           1    1  捷運市政府站(3號出口)   信義區  25.040858  121.567904   \n",
       "1           234           1    1  捷運市政府站(3號出口)   信義區  25.040858  121.567904   \n",
       "\n",
       "              ar  Unnamed: 0_y  Status  ...          經度         緯度   城市  \\\n",
       "0  忠孝東路/松仁路(東南側)             3       1  ...  121.529731  25.182586  臺北市   \n",
       "1  忠孝東路/松仁路(東南側)             4       1  ...  121.514853  25.037658  臺北市   \n",
       "\n",
       "               地址      資料起始日期 撤站日期  \\\n",
       "0  北投區陽明山竹子湖路111號    1943/1/1  NaN   \n",
       "1       中正區公園路64號  1896/08/11  NaN   \n",
       "\n",
       "                                                  備註  原站號  新站號  \\\n",
       "0                                                NaN  NaN  NaN   \n",
       "1  1992/02至1997/08因本局改建，觀測地點移至臺北師院(466921)。2014至2...  NaN  NaN   \n",
       "\n",
       "  distanceBike_Weather  \n",
       "0         16239.534021  \n",
       "1          5362.477961  \n",
       "\n",
       "[2 rows x 23 columns]"
      ]
     },
     "execution_count": 16,
     "metadata": {},
     "output_type": "execute_result"
    }
   ],
   "source": [
    "merge_df.head(2)"
   ]
  },
  {
   "cell_type": "code",
   "execution_count": 17,
   "id": "46c5e588-cd78-4aa9-9a2f-a7c39bf9bbbe",
   "metadata": {},
   "outputs": [],
   "source": [
    "group = merge_df.groupby(['sno'])"
   ]
  },
  {
   "cell_type": "code",
   "execution_count": null,
   "id": "201538d9-aac7-468d-a5a4-a0ac6d12d3c0",
   "metadata": {
    "tags": []
   },
   "outputs": [],
   "source": [
    "group['distanceBike_Weather'].aggregate(['min'])"
   ]
  },
  {
   "cell_type": "code",
   "execution_count": null,
   "id": "1ecc24cc-b62f-4a34-9e69-84e48462cb8f",
   "metadata": {
    "tags": []
   },
   "outputs": [],
   "source": [
    "min_df = pd.merge(merge_df, group['distanceBike_Weather'].aggregate(['min']), on='sno')\n",
    "min_df"
   ]
  },
  {
   "cell_type": "code",
   "execution_count": null,
   "id": "06d98e4c-a101-4990-9176-f38597501506",
   "metadata": {
    "tags": []
   },
   "outputs": [],
   "source": [
    "output_df = min_df[min_df['distanceBike_Weather']==min_df['min']]\n",
    "output_df"
   ]
  },
  {
   "cell_type": "code",
   "execution_count": null,
   "id": "ac7e6ab8-d5db-4982-80c3-c49a22cd4777",
   "metadata": {},
   "outputs": [],
   "source": [
    "output_df.drop(['min'], axis=1, inplace=True)"
   ]
  },
  {
   "cell_type": "code",
   "execution_count": null,
   "id": "1eeec679-512f-45c5-9859-b5bff632c7b7",
   "metadata": {},
   "outputs": [],
   "source": [
    "output_df.rename(columns = {'出入口名稱':'MRT_Exit_Name', 'MRT':'MRT_Station','dist':'Dist'}, inplace = True)"
   ]
  },
  {
   "cell_type": "code",
   "execution_count": null,
   "id": "bb30c3ab-4c12-4ccb-941e-0b4c3201169a",
   "metadata": {},
   "outputs": [],
   "source": [
    "output_df.to_excel(\"Bike_WS_MinDist.xlsx\")"
   ]
  },
  {
   "cell_type": "code",
   "execution_count": 22,
   "id": "27499370-e440-4d25-a82f-e059b001ce55",
   "metadata": {},
   "outputs": [],
   "source": [
    "merge_df.to_excel(\"Bike_WS_All_Combo.xlsx\")"
   ]
  }
 ],
 "metadata": {
  "kernelspec": {
   "display_name": "Python 3 (ipykernel)",
   "language": "python",
   "name": "python3"
  },
  "language_info": {
   "codemirror_mode": {
    "name": "ipython",
    "version": 3
   },
   "file_extension": ".py",
   "mimetype": "text/x-python",
   "name": "python",
   "nbconvert_exporter": "python",
   "pygments_lexer": "ipython3",
   "version": "3.9.12"
  }
 },
 "nbformat": 4,
 "nbformat_minor": 5
}
