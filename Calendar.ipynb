{
 "cells": [
  {
   "cell_type": "code",
   "execution_count": 1,
   "id": "60564d6c-a124-47d7-9701-6e498fba7dac",
   "metadata": {},
   "outputs": [],
   "source": [
    "import pandas as pd\n",
    "import os\n",
    "import glob\n",
    "import numpy as np"
   ]
  },
  {
   "cell_type": "code",
   "execution_count": 2,
   "id": "477c030b-0026-4be1-abc7-53016b430ba0",
   "metadata": {},
   "outputs": [
    {
     "name": "stdout",
     "output_type": "stream",
     "text": [
      "['./Calendar\\\\106年中華民國政府行政機關辦公日曆表.csv', './Calendar\\\\107年中華民國政府行政機關辦公日曆表.csv', './Calendar\\\\108年中華民國政府行政機關辦公日曆表.csv', './Calendar\\\\109年中華民國政府行政機關辦公日曆表.csv', './Calendar\\\\110年中華民國政府行政機關辦公日曆表.csv', './Calendar\\\\111年中華民國政府行政機關辦公日曆表.csv']\n"
     ]
    }
   ],
   "source": [
    "print(glob.glob(os.path.join(\"./Calendar/\", \"*.csv\")))"
   ]
  },
  {
   "cell_type": "code",
   "execution_count": 3,
   "id": "37c85f13-7ba8-47b3-b14b-713259b46174",
   "metadata": {},
   "outputs": [],
   "source": [
    "path = r\"./Calendar\"\n",
    "all_files = glob.glob(os.path.join(\"./Calendar/\", \"*.csv\"))"
   ]
  },
  {
   "cell_type": "code",
   "execution_count": 4,
   "id": "c8576565-c95f-46b4-b569-7d5e7097e105",
   "metadata": {},
   "outputs": [],
   "source": [
    "li = []\n",
    "\n",
    "for file in all_files:\n",
    "    df = pd.read_csv(file,encoding='cp950',index_col=None)\n",
    "    li.append(df)"
   ]
  },
  {
   "cell_type": "code",
   "execution_count": 5,
   "id": "80502775-86bb-4177-b634-7dc859ee4ec7",
   "metadata": {},
   "outputs": [],
   "source": [
    "df = pd.concat(li, axis=0, ignore_index=True)"
   ]
  },
  {
   "cell_type": "code",
   "execution_count": 6,
   "id": "d4706c8f-283a-49a2-b5e2-be45257af9a6",
   "metadata": {},
   "outputs": [],
   "source": [
    "df = df.drop_duplicates()\n",
    "df['Date'] = pd.to_datetime(df['西元日期'], format='%Y%m%d')\n",
    "df['是否放假'] = df['是否放假']/2"
   ]
  },
  {
   "cell_type": "code",
   "execution_count": 7,
   "id": "ff5836e2-90bd-4031-b683-fd88c0fd91eb",
   "metadata": {},
   "outputs": [],
   "source": [
    "df['星期'] = np.where(df['星期']=='日', 'Sunday',\n",
    "             np.where(df['星期']=='六', 'Saturday',\n",
    "             np.where(df['星期']=='五', 'Friday',\n",
    "             np.where(df['星期']=='四', 'Thursday',\n",
    "             np.where(df['星期']=='三', 'Wednesday',\n",
    "             np.where(df['星期']=='二', 'Tuesday',\n",
    "              'Monday'))))))"
   ]
  },
  {
   "cell_type": "code",
   "execution_count": 8,
   "id": "48888f44-7f43-45a6-8b33-559894b4e27f",
   "metadata": {},
   "outputs": [],
   "source": [
    "df.drop('西元日期',axis=1, inplace=True)\n",
    "df.rename(columns={'星期': 'Weekday', '是否放假': 'Holiday', '備註' :'Notes'}, inplace=True)"
   ]
  },
  {
   "cell_type": "code",
   "execution_count": 9,
   "id": "14d4e03a-8202-4c2d-838f-65ff46de0db2",
   "metadata": {},
   "outputs": [],
   "source": [
    "df = df[ [ 'Date','Weekday','Holiday','Notes' ] ]"
   ]
  },
  {
   "cell_type": "code",
   "execution_count": 10,
   "id": "93eca776-054f-42ff-9662-bd8066b4baec",
   "metadata": {},
   "outputs": [
    {
     "data": {
      "text/html": [
       "<div>\n",
       "<style scoped>\n",
       "    .dataframe tbody tr th:only-of-type {\n",
       "        vertical-align: middle;\n",
       "    }\n",
       "\n",
       "    .dataframe tbody tr th {\n",
       "        vertical-align: top;\n",
       "    }\n",
       "\n",
       "    .dataframe thead th {\n",
       "        text-align: right;\n",
       "    }\n",
       "</style>\n",
       "<table border=\"1\" class=\"dataframe\">\n",
       "  <thead>\n",
       "    <tr style=\"text-align: right;\">\n",
       "      <th></th>\n",
       "      <th>Date</th>\n",
       "      <th>Weekday</th>\n",
       "      <th>Holiday</th>\n",
       "      <th>Notes</th>\n",
       "    </tr>\n",
       "  </thead>\n",
       "  <tbody>\n",
       "    <tr>\n",
       "      <th>0</th>\n",
       "      <td>2017-01-01</td>\n",
       "      <td>Sunday</td>\n",
       "      <td>1.0</td>\n",
       "      <td>開國紀念日</td>\n",
       "    </tr>\n",
       "    <tr>\n",
       "      <th>1</th>\n",
       "      <td>2017-01-02</td>\n",
       "      <td>Monday</td>\n",
       "      <td>1.0</td>\n",
       "      <td>補假</td>\n",
       "    </tr>\n",
       "    <tr>\n",
       "      <th>2</th>\n",
       "      <td>2017-01-03</td>\n",
       "      <td>Tuesday</td>\n",
       "      <td>0.0</td>\n",
       "      <td>NaN</td>\n",
       "    </tr>\n",
       "    <tr>\n",
       "      <th>3</th>\n",
       "      <td>2017-01-04</td>\n",
       "      <td>Wednesday</td>\n",
       "      <td>0.0</td>\n",
       "      <td>NaN</td>\n",
       "    </tr>\n",
       "    <tr>\n",
       "      <th>4</th>\n",
       "      <td>2017-01-05</td>\n",
       "      <td>Thursday</td>\n",
       "      <td>0.0</td>\n",
       "      <td>NaN</td>\n",
       "    </tr>\n",
       "    <tr>\n",
       "      <th>...</th>\n",
       "      <td>...</td>\n",
       "      <td>...</td>\n",
       "      <td>...</td>\n",
       "      <td>...</td>\n",
       "    </tr>\n",
       "    <tr>\n",
       "      <th>2186</th>\n",
       "      <td>2022-12-27</td>\n",
       "      <td>Tuesday</td>\n",
       "      <td>0.0</td>\n",
       "      <td>NaN</td>\n",
       "    </tr>\n",
       "    <tr>\n",
       "      <th>2187</th>\n",
       "      <td>2022-12-28</td>\n",
       "      <td>Wednesday</td>\n",
       "      <td>0.0</td>\n",
       "      <td>NaN</td>\n",
       "    </tr>\n",
       "    <tr>\n",
       "      <th>2188</th>\n",
       "      <td>2022-12-29</td>\n",
       "      <td>Thursday</td>\n",
       "      <td>0.0</td>\n",
       "      <td>NaN</td>\n",
       "    </tr>\n",
       "    <tr>\n",
       "      <th>2189</th>\n",
       "      <td>2022-12-30</td>\n",
       "      <td>Friday</td>\n",
       "      <td>0.0</td>\n",
       "      <td>NaN</td>\n",
       "    </tr>\n",
       "    <tr>\n",
       "      <th>2190</th>\n",
       "      <td>2022-12-31</td>\n",
       "      <td>Saturday</td>\n",
       "      <td>1.0</td>\n",
       "      <td>NaN</td>\n",
       "    </tr>\n",
       "  </tbody>\n",
       "</table>\n",
       "<p>2191 rows × 4 columns</p>\n",
       "</div>"
      ],
      "text/plain": [
       "           Date    Weekday  Holiday  Notes\n",
       "0    2017-01-01     Sunday      1.0  開國紀念日\n",
       "1    2017-01-02     Monday      1.0     補假\n",
       "2    2017-01-03    Tuesday      0.0    NaN\n",
       "3    2017-01-04  Wednesday      0.0    NaN\n",
       "4    2017-01-05   Thursday      0.0    NaN\n",
       "...         ...        ...      ...    ...\n",
       "2186 2022-12-27    Tuesday      0.0    NaN\n",
       "2187 2022-12-28  Wednesday      0.0    NaN\n",
       "2188 2022-12-29   Thursday      0.0    NaN\n",
       "2189 2022-12-30     Friday      0.0    NaN\n",
       "2190 2022-12-31   Saturday      1.0    NaN\n",
       "\n",
       "[2191 rows x 4 columns]"
      ]
     },
     "execution_count": 10,
     "metadata": {},
     "output_type": "execute_result"
    }
   ],
   "source": [
    "df"
   ]
  },
  {
   "cell_type": "code",
   "execution_count": null,
   "id": "77baac41-c7fb-447c-a75b-e822dcfcfc54",
   "metadata": {},
   "outputs": [],
   "source": [
    "df.to_excel('./Calendar/Calendar.xlsx',index=False,header=True)"
   ]
  },
  {
   "cell_type": "code",
   "execution_count": null,
   "id": "9f909818-1f2b-4a33-9e77-7dc81288b767",
   "metadata": {},
   "outputs": [],
   "source": []
  }
 ],
 "metadata": {
  "kernelspec": {
   "display_name": "Python 3 (ipykernel)",
   "language": "python",
   "name": "python3"
  },
  "language_info": {
   "codemirror_mode": {
    "name": "ipython",
    "version": 3
   },
   "file_extension": ".py",
   "mimetype": "text/x-python",
   "name": "python",
   "nbconvert_exporter": "python",
   "pygments_lexer": "ipython3",
   "version": "3.9.12"
  }
 },
 "nbformat": 4,
 "nbformat_minor": 5
}
